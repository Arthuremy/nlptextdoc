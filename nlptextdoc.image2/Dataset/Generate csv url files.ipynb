{
 "cells": [
  {
   "cell_type": "code",
   "execution_count": 1,
   "metadata": {},
   "outputs": [
    {
     "name": "stdout",
     "output_type": "stream",
     "text": [
      "Downloading datasets urls file (55 MB)\n"
     ]
    },
    {
     "data": {
      "text/html": [],
      "text/plain": [
       "<IPython.core.display.HTML object>"
      ]
     },
     "metadata": {},
     "output_type": "display_data"
    },
    {
     "name": "stdout",
     "output_type": "stream",
     "text": [
      "Extracting datasets.urls.zip (this may last several seconds) ...\n",
      "OK\n",
      "Done\n",
      "Loaded datasets urls : 2668787 urls\n"
     ]
    },
    {
     "data": {
      "text/html": [
       "<div>\n",
       "<style scoped>\n",
       "    .dataframe tbody tr th:only-of-type {\n",
       "        vertical-align: middle;\n",
       "    }\n",
       "\n",
       "    .dataframe tbody tr th {\n",
       "        vertical-align: top;\n",
       "    }\n",
       "\n",
       "    .dataframe thead th {\n",
       "        text-align: right;\n",
       "    }\n",
       "</style>\n",
       "<table border=\"1\" class=\"dataframe\">\n",
       "  <thead>\n",
       "    <tr style=\"text-align: right;\">\n",
       "      <th></th>\n",
       "      <th>Website</th>\n",
       "      <th>DocId</th>\n",
       "      <th>DocUrl</th>\n",
       "      <th>Words</th>\n",
       "      <th>fr</th>\n",
       "      <th>en</th>\n",
       "      <th>de</th>\n",
       "      <th>es</th>\n",
       "      <th>?</th>\n",
       "      <th>%fr</th>\n",
       "      <th>%en</th>\n",
       "      <th>%de</th>\n",
       "      <th>%es</th>\n",
       "      <th>%?</th>\n",
       "    </tr>\n",
       "  </thead>\n",
       "  <tbody>\n",
       "    <tr>\n",
       "      <td>0</td>\n",
       "      <td>4</td>\n",
       "      <td>1</td>\n",
       "      <td>https://www.afer.fr/</td>\n",
       "      <td>573.0</td>\n",
       "      <td>524.0</td>\n",
       "      <td>3.0</td>\n",
       "      <td>0.0</td>\n",
       "      <td>0.0</td>\n",
       "      <td>46.0</td>\n",
       "      <td>0.914485</td>\n",
       "      <td>0.005236</td>\n",
       "      <td>0.0</td>\n",
       "      <td>0.0</td>\n",
       "      <td>0.080279</td>\n",
       "    </tr>\n",
       "    <tr>\n",
       "      <td>1</td>\n",
       "      <td>4</td>\n",
       "      <td>2</td>\n",
       "      <td>https://www.afer.fr/afer/adhesion/</td>\n",
       "      <td>74.0</td>\n",
       "      <td>74.0</td>\n",
       "      <td>0.0</td>\n",
       "      <td>0.0</td>\n",
       "      <td>0.0</td>\n",
       "      <td>0.0</td>\n",
       "      <td>1.000000</td>\n",
       "      <td>0.000000</td>\n",
       "      <td>0.0</td>\n",
       "      <td>0.0</td>\n",
       "      <td>0.000000</td>\n",
       "    </tr>\n",
       "    <tr>\n",
       "      <td>2</td>\n",
       "      <td>4</td>\n",
       "      <td>3</td>\n",
       "      <td>https://www.afer.fr/afer/adhesion/adherent-ass...</td>\n",
       "      <td>475.0</td>\n",
       "      <td>457.0</td>\n",
       "      <td>5.0</td>\n",
       "      <td>0.0</td>\n",
       "      <td>0.0</td>\n",
       "      <td>13.0</td>\n",
       "      <td>0.962105</td>\n",
       "      <td>0.010526</td>\n",
       "      <td>0.0</td>\n",
       "      <td>0.0</td>\n",
       "      <td>0.027368</td>\n",
       "    </tr>\n",
       "    <tr>\n",
       "      <td>3</td>\n",
       "      <td>4</td>\n",
       "      <td>4</td>\n",
       "      <td>https://www.afer.fr/afer/adhesion/adherer-assu...</td>\n",
       "      <td>519.0</td>\n",
       "      <td>519.0</td>\n",
       "      <td>0.0</td>\n",
       "      <td>0.0</td>\n",
       "      <td>0.0</td>\n",
       "      <td>0.0</td>\n",
       "      <td>1.000000</td>\n",
       "      <td>0.000000</td>\n",
       "      <td>0.0</td>\n",
       "      <td>0.0</td>\n",
       "      <td>0.000000</td>\n",
       "    </tr>\n",
       "    <tr>\n",
       "      <td>4</td>\n",
       "      <td>4</td>\n",
       "      <td>5</td>\n",
       "      <td>https://www.afer.fr/afer/adhesion/parrainage-a...</td>\n",
       "      <td>355.0</td>\n",
       "      <td>345.0</td>\n",
       "      <td>0.0</td>\n",
       "      <td>0.0</td>\n",
       "      <td>0.0</td>\n",
       "      <td>10.0</td>\n",
       "      <td>0.971831</td>\n",
       "      <td>0.000000</td>\n",
       "      <td>0.0</td>\n",
       "      <td>0.0</td>\n",
       "      <td>0.028169</td>\n",
       "    </tr>\n",
       "  </tbody>\n",
       "</table>\n",
       "</div>"
      ],
      "text/plain": [
       "   Website  DocId                                             DocUrl  Words  \\\n",
       "0        4      1                               https://www.afer.fr/  573.0   \n",
       "1        4      2                 https://www.afer.fr/afer/adhesion/   74.0   \n",
       "2        4      3  https://www.afer.fr/afer/adhesion/adherent-ass...  475.0   \n",
       "3        4      4  https://www.afer.fr/afer/adhesion/adherer-assu...  519.0   \n",
       "4        4      5  https://www.afer.fr/afer/adhesion/parrainage-a...  355.0   \n",
       "\n",
       "      fr   en   de   es     ?       %fr       %en  %de  %es        %?  \n",
       "0  524.0  3.0  0.0  0.0  46.0  0.914485  0.005236  0.0  0.0  0.080279  \n",
       "1   74.0  0.0  0.0  0.0   0.0  1.000000  0.000000  0.0  0.0  0.000000  \n",
       "2  457.0  5.0  0.0  0.0  13.0  0.962105  0.010526  0.0  0.0  0.027368  \n",
       "3  519.0  0.0  0.0  0.0   0.0  1.000000  0.000000  0.0  0.0  0.000000  \n",
       "4  345.0  0.0  0.0  0.0  10.0  0.971831  0.000000  0.0  0.0  0.028169  "
      ]
     },
     "execution_count": 1,
     "metadata": {},
     "output_type": "execute_result"
    }
   ],
   "source": [
    "from frenchtext.core import *\n",
    "from frenchtext.datasets import *\n",
    "\n",
    "urlsdf = read_urls_file()\n",
    "urlsdf.head()"
   ]
  },
  {
   "cell_type": "code",
   "execution_count": 6,
   "metadata": {},
   "outputs": [],
   "source": [
    "websites = datasetsdf[datasetsdf[\"Dataset\"]!=\"Wikipedia\"][\"Website\"].tolist()"
   ]
  },
  {
   "cell_type": "code",
   "execution_count": 11,
   "metadata": {},
   "outputs": [],
   "source": [
    "datasets = datasetsdf[datasetsdf[\"Website\"].isin(websites)][\"Dataset\"].unique().tolist()"
   ]
  },
  {
   "cell_type": "code",
   "execution_count": 21,
   "metadata": {},
   "outputs": [],
   "source": [
    "import csv\n",
    "\n",
    "for dataset in datasets:\n",
    "    websites = datasetsdf[datasetsdf[\"Dataset\"]==dataset][\"Website\"].tolist()\n",
    "    filteredUrls = urlsdf[urlsdf[\"Website\"].isin(websites)][\"DocUrl\"]\n",
    "    if len(filteredUrls)>10000:\n",
    "        filteredUrls = filteredUrls.sample(10000)\n",
    "    else:\n",
    "        filteredUrls = filteredUrls.sample(len(filteredUrls))\n",
    "    urls = [[url] for url in filteredUrls.tolist()]\n",
    "    with open(f\"{dataset}_urls.csv\", \"w\", newline=\"\") as f:\n",
    "        writer = csv.writer(f)\n",
    "        writer.writerows(urls)"
   ]
  }
 ],
 "metadata": {
  "kernelspec": {
   "display_name": "Python (spacy)",
   "language": "python",
   "name": "spacy"
  },
  "language_info": {
   "codemirror_mode": {
    "name": "ipython",
    "version": 3
   },
   "file_extension": ".py",
   "mimetype": "text/x-python",
   "name": "python",
   "nbconvert_exporter": "python",
   "pygments_lexer": "ipython3",
   "version": "3.6.9"
  }
 },
 "nbformat": 4,
 "nbformat_minor": 2
}
